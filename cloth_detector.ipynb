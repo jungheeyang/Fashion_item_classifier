{
 "cells": [
  {
   "cell_type": "code",
   "execution_count": 142,
   "metadata": {},
   "outputs": [],
   "source": [
    "from tensorflow.keras.models import load_model\n",
    "import cv2\n",
    "import numpy as np"
   ]
  },
  {
   "cell_type": "code",
   "execution_count": 143,
   "metadata": {
    "scrolled": true
   },
   "outputs": [],
   "source": [
    "model = load_model('./conv_test.model')"
   ]
  },
  {
   "cell_type": "code",
   "execution_count": 144,
   "metadata": {},
   "outputs": [],
   "source": [
    "def cloth_labels(num):\n",
    "    if num == 0:\n",
    "        return(\"T-shirt/top\")\n",
    "    elif num == 1:\n",
    "        return('Trouser')\n",
    "    elif num == 2:\n",
    "        return('Pullover')\n",
    "    elif num == 3:\n",
    "        return('Dress')\n",
    "    elif num == 4:\n",
    "        return('Coat')\n",
    "    elif num == 5:\n",
    "        return('Sandal')\n",
    "    elif num == 6:\n",
    "        return('Shirt')\n",
    "    elif num == 7:\n",
    "        return('Sneaker')\n",
    "    elif num == 8:\n",
    "        return('Bag')\n",
    "    elif num == 9:\n",
    "        return('Ankle boot')\n",
    "    else:\n",
    "        return('Wrong label')"
   ]
  },
  {
   "cell_type": "code",
   "execution_count": 145,
   "metadata": {},
   "outputs": [],
   "source": [
    "def detect_body(part):\n",
    "    labels_counter = 0\n",
    "    \n",
    "    for x,y,w,h in part:\n",
    "\n",
    "        upper_img = gray[y:y+w,x:x+w]\n",
    "        resized = cv2.resize(upper_img,(28,28))\n",
    "        normalized = resized/255.0\n",
    "        reshaped = np.reshape(normalized,(1,28,28,1))\n",
    "        result = model.predict(reshaped)\n",
    "\n",
    "        labels_counter = np.argmax(result,axis=1)[0]\n",
    "        labels = np.argsort(result,axis=1)[0]\n",
    "        \n",
    "        \n",
    "        cloth = cloth_labels(labels_counter)\n",
    "\n",
    "        cv2.rectangle(resize_img,(x,y),(x+w,y+h),(0,0,255),2)\n",
    "#         cv2.putText(\n",
    "#           resize_img, cloth, \n",
    "#           (x, y+5),\n",
    "#           cv2.FONT_HERSHEY_SIMPLEX,0.6,(255,0,255),2)\n",
    "    \n",
    "    return labels_counter\n"
   ]
  },
  {
   "cell_type": "code",
   "execution_count": 146,
   "metadata": {},
   "outputs": [],
   "source": [
    "def print_labels(arr):\n",
    "    '''\n",
    "    Prints top 3 most classfied items.\n",
    "    '''\n",
    "    arr = np.multiply(arr, -1)\n",
    "    label_sorted = np.argsort(arr)\n",
    "    print(\"Top 3 items\")\n",
    "    for x in label_sorted[:3]:\n",
    "        print(cloth_labels(x))"
   ]
  },
  {
   "cell_type": "code",
   "execution_count": 147,
   "metadata": {},
   "outputs": [],
   "source": [
    "def print_all_labels(arr):\n",
    "    '''\n",
    "    Prints all labels that classified\n",
    "    '''\n",
    "    arr = np.multiply(arr, -1)\n",
    "    label_sorted = np.argsort(arr)\n",
    "    for x in label_sorted:\n",
    "        if arr[x]!=0:\n",
    "            print(cloth_labels(x))"
   ]
  },
  {
   "cell_type": "code",
   "execution_count": 148,
   "metadata": {},
   "outputs": [
    {
     "name": "stdout",
     "output_type": "stream",
     "text": [
      "Top 3 items\n",
      "T-shirt/top\n",
      "Bag\n",
      "Trouser\n"
     ]
    }
   ],
   "source": [
    "source = cv2.VideoCapture('./example6.mp4')\n",
    "\n",
    "# source=cv2.VideoCapture(0)\n",
    "\n",
    "\n",
    "upper_body = cv2.CascadeClassifier('/Users/katyang/opt/miniconda3/envs/2812ICT_env/lib/python3.6/site-packages/cv2/data/haarcascade_upperbody.xml')\n",
    "lower_body = cv2.CascadeClassifier('/Users/katyang/opt/miniconda3/envs/2812ICT_env/lib/python3.6/site-packages/cv2/data/haarcascade_lowerbody.xml')\n",
    "full_body = cv2.CascadeClassifier('/Users/katyang/opt/miniconda3/envs/2812ICT_env/lib/python3.6/site-packages/cv2/data/haarcascade_fullbody.xml')\n",
    "\n",
    "labels_counter = [0,0,0,0,0,0,0,0,0,0]\n",
    "\n",
    "while(True):\n",
    "\n",
    "    ret,img = source.read()\n",
    "    resize_img = cv2.resize(img, (0, 0), fx=0.2, fy=0.2)\n",
    "    gray = cv2.cvtColor(resize_img,cv2.COLOR_BGR2GRAY)\n",
    "    \n",
    "    upper = upper_body.detectMultiScale(gray,1.07,4)  \n",
    "    lower = lower_body.detectMultiScale(gray,1.04,3)  \n",
    "    full = full_body.detectMultiScale(gray,1.05,4)  \n",
    "    \n",
    "    label1 = detect_body(upper)\n",
    "    label2 = detect_body(lower)\n",
    "    label3 = detect_body(full)\n",
    "    \n",
    "    labels_counter[label1] += 1\n",
    "    labels_counter[label2] += 1\n",
    "    labels_counter[label3] += 1\n",
    "    \n",
    "    reverse = np.multiply(labels_counter, -1)\n",
    "    sorted_label = np.argsort(reverse)\n",
    "    \n",
    "    cv2.putText(resize_img, \n",
    "                cloth_labels(sorted_label[0]), \n",
    "                (0, 15),\n",
    "                cv2.FONT_HERSHEY_SIMPLEX,0.6,(255,0,255),2)\n",
    "    \n",
    "    cv2.putText(resize_img, \n",
    "                cloth_labels(sorted_label[1]), \n",
    "                (0, 30),\n",
    "                cv2.FONT_HERSHEY_SIMPLEX,0.6,(255,0,255),2)\n",
    "    \n",
    "    cv2.putText(resize_img, \n",
    "                cloth_labels(sorted_label[2]), \n",
    "                (0, 45),\n",
    "                cv2.FONT_HERSHEY_SIMPLEX,0.6,(255,0,255),2)\n",
    "    \n",
    "    cv2.imshow('LIVE',resize_img)\n",
    "    key=cv2.waitKey(1)\n",
    "    \n",
    "    if(key==27):\n",
    "        break\n",
    "\n",
    "# Release capture\n",
    "source.release()\n",
    "cv2.destroyAllWindows()\n",
    "\n",
    "labels_counter\n",
    "print_labels(labels_counter)"
   ]
  },
  {
   "cell_type": "code",
   "execution_count": 141,
   "metadata": {
    "scrolled": true
   },
   "outputs": [
    {
     "name": "stdout",
     "output_type": "stream",
     "text": [
      "Shirt\n",
      "T-shirt/top\n",
      "Bag\n",
      "Ankle boot\n",
      "Trouser\n",
      "Dress\n",
      "Coat\n",
      "Sandal\n"
     ]
    }
   ],
   "source": [
    "print_all_labels(labels_counter)"
   ]
  },
  {
   "cell_type": "code",
   "execution_count": null,
   "metadata": {},
   "outputs": [],
   "source": []
  }
 ],
 "metadata": {
  "kernelspec": {
   "display_name": "virtual_env",
   "language": "python",
   "name": "virtual_env"
  },
  "language_info": {
   "codemirror_mode": {
    "name": "ipython",
    "version": 3
   },
   "file_extension": ".py",
   "mimetype": "text/x-python",
   "name": "python",
   "nbconvert_exporter": "python",
   "pygments_lexer": "ipython3",
   "version": "3.6.10"
  }
 },
 "nbformat": 4,
 "nbformat_minor": 4
}
